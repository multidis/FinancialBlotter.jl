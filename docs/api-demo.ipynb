{
 "metadata": {
  "language": "Julia",
  "name": ""
 },
 "nbformat": 3,
 "nbformat_minor": 0,
 "worksheets": [
  {
   "cells": [
    {
     "cell_type": "code",
     "collapsed": false,
     "input": [
      "## FinancialBlotter.jl api demo\n",
      "using MarketData"
     ],
     "language": "python",
     "metadata": {},
     "outputs": [],
     "prompt_number": 1
    },
    {
     "cell_type": "code",
     "collapsed": false,
     "input": [
      "#using FinancialBlotter\n",
      "include(\"../src/FinancialBlotter.jl\")"
     ],
     "language": "python",
     "metadata": {},
     "outputs": [],
     "prompt_number": 2
    },
    {
     "cell_type": "code",
     "collapsed": false,
     "input": [
      "# what the blotter type looks like\n",
      "FinancialBlotter.Blotter()"
     ],
     "language": "python",
     "metadata": {},
     "outputs": [
      {
       "metadata": {},
       "output_type": "pyout",
       "prompt_number": 3,
       "text": [
        "\n",
        "Financial blotter for ticker: *** ticker ***\n",
        "\n",
        "1x2 TimeArray{Float64,2} 1795-10-31T00:00:00 to 1795-10-31T00:00:00\n",
        "\n",
        "                      Qty   Fill  \n",
        "1795-10-31T00:00:00 | 0.0   0.0   \n"
       ]
      }
     ],
     "prompt_number": 3
    },
    {
     "cell_type": "code",
     "collapsed": false,
     "input": [],
     "language": "python",
     "metadata": {},
     "outputs": []
    }
   ],
   "metadata": {}
  }
 ]
}